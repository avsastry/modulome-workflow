{
 "cells": [
  {
   "cell_type": "markdown",
   "metadata": {
    "toc": true
   },
   "source": [
    "<h1>Table of Contents<span class=\"tocSkip\"></span></h1>\n",
    "<div class=\"toc\"><ul class=\"toc-item\"><li><span><a href=\"#Expression-Quality-Control-(Part-2)\" data-toc-modified-id=\"Expression-Quality-Control-(Part-2)-1\"><span class=\"toc-item-num\">1&nbsp;&nbsp;</span>Expression Quality Control (Part 2)</a></span><ul class=\"toc-item\"><li><span><a href=\"#Setup\" data-toc-modified-id=\"Setup-1.1\"><span class=\"toc-item-num\">1.1&nbsp;&nbsp;</span>Setup</a></span><ul class=\"toc-item\"><li><span><a href=\"#Inputs\" data-toc-modified-id=\"Inputs-1.1.1\"><span class=\"toc-item-num\">1.1.1&nbsp;&nbsp;</span>Inputs</a></span></li><li><span><a href=\"#Load-expression-data\" data-toc-modified-id=\"Load-expression-data-1.1.2\"><span class=\"toc-item-num\">1.1.2&nbsp;&nbsp;</span>Load expression data</a></span></li><li><span><a href=\"#Load-metadata\" data-toc-modified-id=\"Load-metadata-1.1.3\"><span class=\"toc-item-num\">1.1.3&nbsp;&nbsp;</span>Load metadata</a></span></li></ul></li><li><span><a href=\"#Remove-samples-due-to-poor-metadata\" data-toc-modified-id=\"Remove-samples-due-to-poor-metadata-1.2\"><span class=\"toc-item-num\">1.2&nbsp;&nbsp;</span>Remove samples due to poor metadata</a></span><ul class=\"toc-item\"><li><span><a href=\"#Check-curation\" data-toc-modified-id=\"Check-curation-1.2.1\"><span class=\"toc-item-num\">1.2.1&nbsp;&nbsp;</span>Check curation</a></span></li><li><span><a href=\"#Remove-samples-with-only-one-replicate\" data-toc-modified-id=\"Remove-samples-with-only-one-replicate-1.2.2\"><span class=\"toc-item-num\">1.2.2&nbsp;&nbsp;</span>Remove samples with only one replicate</a></span></li><li><span><a href=\"#Save-this-information-to-the-full-metadata-dataframe\" data-toc-modified-id=\"Save-this-information-to-the-full-metadata-dataframe-1.2.3\"><span class=\"toc-item-num\">1.2.3&nbsp;&nbsp;</span>Save this information to the full metadata dataframe</a></span></li></ul></li><li><span><a href=\"#Check-correlations-between-replicates\" data-toc-modified-id=\"Check-correlations-between-replicates-1.3\"><span class=\"toc-item-num\">1.3&nbsp;&nbsp;</span>Check correlations between replicates</a></span><ul class=\"toc-item\"><li><span><a href=\"#Remove-failed-data-from-log_tpm-files\" data-toc-modified-id=\"Remove-failed-data-from-log_tpm-files-1.3.1\"><span class=\"toc-item-num\">1.3.1&nbsp;&nbsp;</span>Remove failed data from log_tpm files</a></span></li><li><span><a href=\"#Compute-Pearson-R-Score\" data-toc-modified-id=\"Compute-Pearson-R-Score-1.3.2\"><span class=\"toc-item-num\">1.3.2&nbsp;&nbsp;</span>Compute Pearson R Score</a></span></li></ul></li><li><span><a href=\"#Check-that-reference-conditions-still-exist\" data-toc-modified-id=\"Check-that-reference-conditions-still-exist-1.4\"><span class=\"toc-item-num\">1.4&nbsp;&nbsp;</span>Check that reference conditions still exist</a></span></li><li><span><a href=\"#Normalize-dataset-to-reference-conditions\" data-toc-modified-id=\"Normalize-dataset-to-reference-conditions-1.5\"><span class=\"toc-item-num\">1.5&nbsp;&nbsp;</span>Normalize dataset to reference conditions</a></span></li><li><span><a href=\"#Save-final-datasets\" data-toc-modified-id=\"Save-final-datasets-1.6\"><span class=\"toc-item-num\">1.6&nbsp;&nbsp;</span>Save final datasets</a></span></li></ul></li></ul></div>"
   ]
  },
  {
   "cell_type": "markdown",
   "metadata": {},
   "source": [
    "# Expression Quality Control (Part 2)"
   ]
  },
  {
   "cell_type": "markdown",
   "metadata": {},
   "source": [
    "This is a template notebook for performing the final quality control on your organism's expression data. This requires a curated metadata sheet."
   ]
  },
  {
   "cell_type": "markdown",
   "metadata": {},
   "source": [
    "## Setup "
   ]
  },
  {
   "cell_type": "code",
   "execution_count": 1,
   "metadata": {},
   "outputs": [],
   "source": [
    "import itertools\n",
    "\n",
    "import matplotlib.pyplot as plt\n",
    "import numpy as np\n",
    "import pandas as pd\n",
    "import seaborn as sns\n",
    "\n",
    "from os import path\n",
    "from scipy import stats\n",
    "from tqdm.notebook import tqdm"
   ]
  },
  {
   "cell_type": "code",
   "execution_count": 2,
   "metadata": {},
   "outputs": [],
   "source": [
    "sns.set_style('ticks')"
   ]
  },
  {
   "cell_type": "markdown",
   "metadata": {},
   "source": [
    "### Inputs"
   ]
  },
  {
   "cell_type": "code",
   "execution_count": 3,
   "metadata": {},
   "outputs": [],
   "source": [
    "logTPM_file = path.join('..','data','raw_data','log_tpm.csv') # Enter log-TPM filename here\n",
    "all_metadata_file = path.join('..','data','interim','metadata_qc_part1_all.tsv') # Enter full metadata filename here\n",
    "metadata_file = path.join('..','data','interim','metadata_qc_part1_curated.tsv') # Enter curated metadata filename here"
   ]
  },
  {
   "cell_type": "markdown",
   "metadata": {},
   "source": [
    "### Load expression data"
   ]
  },
  {
   "cell_type": "code",
   "execution_count": 4,
   "metadata": {},
   "outputs": [
    {
     "name": "stdout",
     "output_type": "stream",
     "text": [
      "Number of genes: 4325\n",
      "Number of samples: 708\n"
     ]
    },
    {
     "data": {
      "text/html": [
       "<div>\n",
       "<style scoped>\n",
       "    .dataframe tbody tr th:only-of-type {\n",
       "        vertical-align: middle;\n",
       "    }\n",
       "\n",
       "    .dataframe tbody tr th {\n",
       "        vertical-align: top;\n",
       "    }\n",
       "\n",
       "    .dataframe thead th {\n",
       "        text-align: right;\n",
       "    }\n",
       "</style>\n",
       "<table border=\"1\" class=\"dataframe\">\n",
       "  <thead>\n",
       "    <tr style=\"text-align: right;\">\n",
       "      <th></th>\n",
       "      <th>DRX131730</th>\n",
       "      <th>DRX131731</th>\n",
       "      <th>ERX1295610</th>\n",
       "      <th>ERX1295611</th>\n",
       "      <th>ERX1295612</th>\n",
       "      <th>ERX1295613</th>\n",
       "      <th>ERX1295614</th>\n",
       "      <th>ERX1295615</th>\n",
       "      <th>ERX1295616</th>\n",
       "      <th>ERX1295617</th>\n",
       "      <th>...</th>\n",
       "      <th>SRX959208</th>\n",
       "      <th>SRX959209</th>\n",
       "      <th>SRX959210</th>\n",
       "      <th>SRX959211</th>\n",
       "      <th>SRX959212</th>\n",
       "      <th>SRX959213</th>\n",
       "      <th>SRX959214</th>\n",
       "      <th>SRX959215</th>\n",
       "      <th>SRX959216</th>\n",
       "      <th>SRX959217</th>\n",
       "    </tr>\n",
       "    <tr>\n",
       "      <th>Geneid</th>\n",
       "      <th></th>\n",
       "      <th></th>\n",
       "      <th></th>\n",
       "      <th></th>\n",
       "      <th></th>\n",
       "      <th></th>\n",
       "      <th></th>\n",
       "      <th></th>\n",
       "      <th></th>\n",
       "      <th></th>\n",
       "      <th></th>\n",
       "      <th></th>\n",
       "      <th></th>\n",
       "      <th></th>\n",
       "      <th></th>\n",
       "      <th></th>\n",
       "      <th></th>\n",
       "      <th></th>\n",
       "      <th></th>\n",
       "      <th></th>\n",
       "      <th></th>\n",
       "    </tr>\n",
       "  </thead>\n",
       "  <tbody>\n",
       "    <tr>\n",
       "      <th>BSU_00010</th>\n",
       "      <td>7.462530</td>\n",
       "      <td>7.098605</td>\n",
       "      <td>7.916877</td>\n",
       "      <td>8.869394</td>\n",
       "      <td>8.300513</td>\n",
       "      <td>8.855594</td>\n",
       "      <td>7.846917</td>\n",
       "      <td>8.943174</td>\n",
       "      <td>8.740763</td>\n",
       "      <td>9.189900</td>\n",
       "      <td>...</td>\n",
       "      <td>7.838464</td>\n",
       "      <td>7.417794</td>\n",
       "      <td>7.460627</td>\n",
       "      <td>7.154734</td>\n",
       "      <td>7.707032</td>\n",
       "      <td>7.275798</td>\n",
       "      <td>7.606982</td>\n",
       "      <td>7.544739</td>\n",
       "      <td>7.432504</td>\n",
       "      <td>7.536969</td>\n",
       "    </tr>\n",
       "    <tr>\n",
       "      <th>BSU_00020</th>\n",
       "      <td>8.016003</td>\n",
       "      <td>7.392746</td>\n",
       "      <td>7.902305</td>\n",
       "      <td>8.416779</td>\n",
       "      <td>8.584681</td>\n",
       "      <td>8.537186</td>\n",
       "      <td>7.928895</td>\n",
       "      <td>8.562883</td>\n",
       "      <td>9.070726</td>\n",
       "      <td>9.386362</td>\n",
       "      <td>...</td>\n",
       "      <td>6.734199</td>\n",
       "      <td>6.899037</td>\n",
       "      <td>6.997465</td>\n",
       "      <td>6.675458</td>\n",
       "      <td>7.878843</td>\n",
       "      <td>7.673993</td>\n",
       "      <td>7.843933</td>\n",
       "      <td>7.641269</td>\n",
       "      <td>7.612722</td>\n",
       "      <td>7.851214</td>\n",
       "    </tr>\n",
       "    <tr>\n",
       "      <th>BSU_00030</th>\n",
       "      <td>6.870758</td>\n",
       "      <td>7.033185</td>\n",
       "      <td>7.450087</td>\n",
       "      <td>7.973767</td>\n",
       "      <td>7.841053</td>\n",
       "      <td>7.731775</td>\n",
       "      <td>7.100132</td>\n",
       "      <td>7.902341</td>\n",
       "      <td>7.949342</td>\n",
       "      <td>8.503556</td>\n",
       "      <td>...</td>\n",
       "      <td>7.828215</td>\n",
       "      <td>6.908195</td>\n",
       "      <td>6.744848</td>\n",
       "      <td>6.685771</td>\n",
       "      <td>7.837414</td>\n",
       "      <td>8.261272</td>\n",
       "      <td>7.925421</td>\n",
       "      <td>7.768439</td>\n",
       "      <td>7.477140</td>\n",
       "      <td>7.614617</td>\n",
       "    </tr>\n",
       "    <tr>\n",
       "      <th>BSU_00040</th>\n",
       "      <td>8.353873</td>\n",
       "      <td>8.225154</td>\n",
       "      <td>8.396466</td>\n",
       "      <td>8.879935</td>\n",
       "      <td>8.629102</td>\n",
       "      <td>8.916810</td>\n",
       "      <td>8.346213</td>\n",
       "      <td>8.995864</td>\n",
       "      <td>9.148182</td>\n",
       "      <td>9.310753</td>\n",
       "      <td>...</td>\n",
       "      <td>8.459266</td>\n",
       "      <td>8.174386</td>\n",
       "      <td>8.015089</td>\n",
       "      <td>7.770594</td>\n",
       "      <td>8.530265</td>\n",
       "      <td>8.515994</td>\n",
       "      <td>8.491431</td>\n",
       "      <td>8.368535</td>\n",
       "      <td>8.188117</td>\n",
       "      <td>8.354613</td>\n",
       "    </tr>\n",
       "    <tr>\n",
       "      <th>BSU_00050</th>\n",
       "      <td>8.049120</td>\n",
       "      <td>7.748395</td>\n",
       "      <td>8.024609</td>\n",
       "      <td>8.443884</td>\n",
       "      <td>8.112961</td>\n",
       "      <td>8.355763</td>\n",
       "      <td>7.868489</td>\n",
       "      <td>8.430197</td>\n",
       "      <td>7.862666</td>\n",
       "      <td>8.770069</td>\n",
       "      <td>...</td>\n",
       "      <td>7.391560</td>\n",
       "      <td>6.870268</td>\n",
       "      <td>6.912665</td>\n",
       "      <td>6.928184</td>\n",
       "      <td>7.539349</td>\n",
       "      <td>7.699223</td>\n",
       "      <td>7.676687</td>\n",
       "      <td>7.218108</td>\n",
       "      <td>7.316390</td>\n",
       "      <td>7.342894</td>\n",
       "    </tr>\n",
       "  </tbody>\n",
       "</table>\n",
       "<p>5 rows × 708 columns</p>\n",
       "</div>"
      ],
      "text/plain": [
       "           DRX131730  DRX131731  ERX1295610  ERX1295611  ERX1295612  \\\n",
       "Geneid                                                                \n",
       "BSU_00010   7.462530   7.098605    7.916877    8.869394    8.300513   \n",
       "BSU_00020   8.016003   7.392746    7.902305    8.416779    8.584681   \n",
       "BSU_00030   6.870758   7.033185    7.450087    7.973767    7.841053   \n",
       "BSU_00040   8.353873   8.225154    8.396466    8.879935    8.629102   \n",
       "BSU_00050   8.049120   7.748395    8.024609    8.443884    8.112961   \n",
       "\n",
       "           ERX1295613  ERX1295614  ERX1295615  ERX1295616  ERX1295617  ...  \\\n",
       "Geneid                                                                 ...   \n",
       "BSU_00010    8.855594    7.846917    8.943174    8.740763    9.189900  ...   \n",
       "BSU_00020    8.537186    7.928895    8.562883    9.070726    9.386362  ...   \n",
       "BSU_00030    7.731775    7.100132    7.902341    7.949342    8.503556  ...   \n",
       "BSU_00040    8.916810    8.346213    8.995864    9.148182    9.310753  ...   \n",
       "BSU_00050    8.355763    7.868489    8.430197    7.862666    8.770069  ...   \n",
       "\n",
       "           SRX959208  SRX959209  SRX959210  SRX959211  SRX959212  SRX959213  \\\n",
       "Geneid                                                                        \n",
       "BSU_00010   7.838464   7.417794   7.460627   7.154734   7.707032   7.275798   \n",
       "BSU_00020   6.734199   6.899037   6.997465   6.675458   7.878843   7.673993   \n",
       "BSU_00030   7.828215   6.908195   6.744848   6.685771   7.837414   8.261272   \n",
       "BSU_00040   8.459266   8.174386   8.015089   7.770594   8.530265   8.515994   \n",
       "BSU_00050   7.391560   6.870268   6.912665   6.928184   7.539349   7.699223   \n",
       "\n",
       "           SRX959214  SRX959215  SRX959216  SRX959217  \n",
       "Geneid                                                 \n",
       "BSU_00010   7.606982   7.544739   7.432504   7.536969  \n",
       "BSU_00020   7.843933   7.641269   7.612722   7.851214  \n",
       "BSU_00030   7.925421   7.768439   7.477140   7.614617  \n",
       "BSU_00040   8.491431   8.368535   8.188117   8.354613  \n",
       "BSU_00050   7.676687   7.218108   7.316390   7.342894  \n",
       "\n",
       "[5 rows x 708 columns]"
      ]
     },
     "execution_count": 4,
     "metadata": {},
     "output_type": "execute_result"
    }
   ],
   "source": [
    "DF_log_tpm = pd.read_csv(logTPM_file,index_col=0).fillna(0)\n",
    "print('Number of genes:',DF_log_tpm.shape[0])\n",
    "print('Number of samples:',DF_log_tpm.shape[1])\n",
    "DF_log_tpm.head()"
   ]
  },
  {
   "cell_type": "markdown",
   "metadata": {},
   "source": [
    "### Load metadata"
   ]
  },
  {
   "cell_type": "code",
   "execution_count": 5,
   "metadata": {},
   "outputs": [
    {
     "name": "stdout",
     "output_type": "stream",
     "text": [
      "Number of samples with curated metadata: 387\n"
     ]
    },
    {
     "data": {
      "text/html": [
       "<div>\n",
       "<style scoped>\n",
       "    .dataframe tbody tr th:only-of-type {\n",
       "        vertical-align: middle;\n",
       "    }\n",
       "\n",
       "    .dataframe tbody tr th {\n",
       "        vertical-align: top;\n",
       "    }\n",
       "\n",
       "    .dataframe thead th {\n",
       "        text-align: right;\n",
       "    }\n",
       "</style>\n",
       "<table border=\"1\" class=\"dataframe\">\n",
       "  <thead>\n",
       "    <tr style=\"text-align: right;\">\n",
       "      <th></th>\n",
       "      <th>ReleaseDate</th>\n",
       "      <th>TaxID</th>\n",
       "      <th>ScientificName</th>\n",
       "      <th>species_tax_id</th>\n",
       "      <th>class_tax_id</th>\n",
       "      <th>strain_tax_id</th>\n",
       "      <th>species</th>\n",
       "      <th>LibraryLayout</th>\n",
       "      <th>Platform</th>\n",
       "      <th>Model</th>\n",
       "      <th>...</th>\n",
       "      <th>strain_description</th>\n",
       "      <th>base_media</th>\n",
       "      <th>carbon_source</th>\n",
       "      <th>treatment</th>\n",
       "      <th>temperature</th>\n",
       "      <th>pH</th>\n",
       "      <th>OD</th>\n",
       "      <th>growth_phase</th>\n",
       "      <th>notes</th>\n",
       "      <th>skip</th>\n",
       "    </tr>\n",
       "  </thead>\n",
       "  <tbody>\n",
       "    <tr>\n",
       "      <th>DRX131730</th>\n",
       "      <td>2018-09-25 19:19:17</td>\n",
       "      <td>224308</td>\n",
       "      <td>Bacillus subtilis subsp. subtilis str. 168</td>\n",
       "      <td>1423</td>\n",
       "      <td>91061</td>\n",
       "      <td>224308</td>\n",
       "      <td>Bacillus subtilis</td>\n",
       "      <td>PAIRED</td>\n",
       "      <td>ILLUMINA</td>\n",
       "      <td>Illumina HiSeq 4000</td>\n",
       "      <td>...</td>\n",
       "      <td>168</td>\n",
       "      <td>DSM</td>\n",
       "      <td>glucose(2%)</td>\n",
       "      <td>NaN</td>\n",
       "      <td>NaN</td>\n",
       "      <td>7.0</td>\n",
       "      <td>NaN</td>\n",
       "      <td>mid-exponential</td>\n",
       "      <td>NaN</td>\n",
       "      <td>NaN</td>\n",
       "    </tr>\n",
       "    <tr>\n",
       "      <th>DRX131731</th>\n",
       "      <td>2018-09-25 19:19:17</td>\n",
       "      <td>224308</td>\n",
       "      <td>Bacillus subtilis subsp. subtilis str. 168</td>\n",
       "      <td>1423</td>\n",
       "      <td>91061</td>\n",
       "      <td>224308</td>\n",
       "      <td>Bacillus subtilis</td>\n",
       "      <td>PAIRED</td>\n",
       "      <td>ILLUMINA</td>\n",
       "      <td>Illumina HiSeq 4000</td>\n",
       "      <td>...</td>\n",
       "      <td>168 del_ylxR</td>\n",
       "      <td>DSM</td>\n",
       "      <td>glucose(2%)</td>\n",
       "      <td>NaN</td>\n",
       "      <td>NaN</td>\n",
       "      <td>7.0</td>\n",
       "      <td>NaN</td>\n",
       "      <td>mid-exponential</td>\n",
       "      <td>NaN</td>\n",
       "      <td>NaN</td>\n",
       "    </tr>\n",
       "    <tr>\n",
       "      <th>ERX1295610</th>\n",
       "      <td>2016-10-05 10:52:19</td>\n",
       "      <td>224308</td>\n",
       "      <td>Bacillus subtilis subsp. subtilis str. 168</td>\n",
       "      <td>1423</td>\n",
       "      <td>91061</td>\n",
       "      <td>224308</td>\n",
       "      <td>Bacillus subtilis</td>\n",
       "      <td>PAIRED</td>\n",
       "      <td>ILLUMINA</td>\n",
       "      <td>Illumina HiSeq 2500</td>\n",
       "      <td>...</td>\n",
       "      <td>NaN</td>\n",
       "      <td>NaN</td>\n",
       "      <td>NaN</td>\n",
       "      <td>NaN</td>\n",
       "      <td>NaN</td>\n",
       "      <td>NaN</td>\n",
       "      <td>NaN</td>\n",
       "      <td>NaN</td>\n",
       "      <td>No metadata</td>\n",
       "      <td>True</td>\n",
       "    </tr>\n",
       "    <tr>\n",
       "      <th>ERX1295611</th>\n",
       "      <td>2016-10-05 10:52:19</td>\n",
       "      <td>224308</td>\n",
       "      <td>Bacillus subtilis subsp. subtilis str. 168</td>\n",
       "      <td>1423</td>\n",
       "      <td>91061</td>\n",
       "      <td>224308</td>\n",
       "      <td>Bacillus subtilis</td>\n",
       "      <td>PAIRED</td>\n",
       "      <td>ILLUMINA</td>\n",
       "      <td>Illumina HiSeq 2500</td>\n",
       "      <td>...</td>\n",
       "      <td>NaN</td>\n",
       "      <td>NaN</td>\n",
       "      <td>NaN</td>\n",
       "      <td>NaN</td>\n",
       "      <td>NaN</td>\n",
       "      <td>NaN</td>\n",
       "      <td>NaN</td>\n",
       "      <td>NaN</td>\n",
       "      <td>No metadata</td>\n",
       "      <td>True</td>\n",
       "    </tr>\n",
       "    <tr>\n",
       "      <th>ERX1295612</th>\n",
       "      <td>2016-10-05 10:52:19</td>\n",
       "      <td>224308</td>\n",
       "      <td>Bacillus subtilis subsp. subtilis str. 168</td>\n",
       "      <td>1423</td>\n",
       "      <td>91061</td>\n",
       "      <td>224308</td>\n",
       "      <td>Bacillus subtilis</td>\n",
       "      <td>PAIRED</td>\n",
       "      <td>ILLUMINA</td>\n",
       "      <td>Illumina HiSeq 2500</td>\n",
       "      <td>...</td>\n",
       "      <td>NaN</td>\n",
       "      <td>NaN</td>\n",
       "      <td>NaN</td>\n",
       "      <td>NaN</td>\n",
       "      <td>NaN</td>\n",
       "      <td>NaN</td>\n",
       "      <td>NaN</td>\n",
       "      <td>NaN</td>\n",
       "      <td>No metadata</td>\n",
       "      <td>True</td>\n",
       "    </tr>\n",
       "  </tbody>\n",
       "</table>\n",
       "<p>5 rows × 49 columns</p>\n",
       "</div>"
      ],
      "text/plain": [
       "                    ReleaseDate   TaxID  \\\n",
       "DRX131730   2018-09-25 19:19:17  224308   \n",
       "DRX131731   2018-09-25 19:19:17  224308   \n",
       "ERX1295610  2016-10-05 10:52:19  224308   \n",
       "ERX1295611  2016-10-05 10:52:19  224308   \n",
       "ERX1295612  2016-10-05 10:52:19  224308   \n",
       "\n",
       "                                        ScientificName  species_tax_id  \\\n",
       "DRX131730   Bacillus subtilis subsp. subtilis str. 168            1423   \n",
       "DRX131731   Bacillus subtilis subsp. subtilis str. 168            1423   \n",
       "ERX1295610  Bacillus subtilis subsp. subtilis str. 168            1423   \n",
       "ERX1295611  Bacillus subtilis subsp. subtilis str. 168            1423   \n",
       "ERX1295612  Bacillus subtilis subsp. subtilis str. 168            1423   \n",
       "\n",
       "            class_tax_id  strain_tax_id            species LibraryLayout  \\\n",
       "DRX131730          91061         224308  Bacillus subtilis        PAIRED   \n",
       "DRX131731          91061         224308  Bacillus subtilis        PAIRED   \n",
       "ERX1295610         91061         224308  Bacillus subtilis        PAIRED   \n",
       "ERX1295611         91061         224308  Bacillus subtilis        PAIRED   \n",
       "ERX1295612         91061         224308  Bacillus subtilis        PAIRED   \n",
       "\n",
       "            Platform                Model  ... strain_description base_media  \\\n",
       "DRX131730   ILLUMINA  Illumina HiSeq 4000  ...                168        DSM   \n",
       "DRX131731   ILLUMINA  Illumina HiSeq 4000  ...       168 del_ylxR        DSM   \n",
       "ERX1295610  ILLUMINA  Illumina HiSeq 2500  ...                NaN        NaN   \n",
       "ERX1295611  ILLUMINA  Illumina HiSeq 2500  ...                NaN        NaN   \n",
       "ERX1295612  ILLUMINA  Illumina HiSeq 2500  ...                NaN        NaN   \n",
       "\n",
       "           carbon_source  treatment temperature   pH  OD     growth_phase  \\\n",
       "DRX131730    glucose(2%)        NaN         NaN  7.0 NaN  mid-exponential   \n",
       "DRX131731    glucose(2%)        NaN         NaN  7.0 NaN  mid-exponential   \n",
       "ERX1295610           NaN        NaN         NaN  NaN NaN              NaN   \n",
       "ERX1295611           NaN        NaN         NaN  NaN NaN              NaN   \n",
       "ERX1295612           NaN        NaN         NaN  NaN NaN              NaN   \n",
       "\n",
       "                  notes  skip  \n",
       "DRX131730           NaN   NaN  \n",
       "DRX131731           NaN   NaN  \n",
       "ERX1295610  No metadata  True  \n",
       "ERX1295611  No metadata  True  \n",
       "ERX1295612  No metadata  True  \n",
       "\n",
       "[5 rows x 49 columns]"
      ]
     },
     "execution_count": 5,
     "metadata": {},
     "output_type": "execute_result"
    }
   ],
   "source": [
    "DF_metadata = pd.read_csv(metadata_file,index_col=0,sep='\\t')\n",
    "print('Number of samples with curated metadata:',DF_metadata.shape[0])\n",
    "DF_metadata.head()"
   ]
  },
  {
   "cell_type": "code",
   "execution_count": 6,
   "metadata": {},
   "outputs": [],
   "source": [
    "DF_metadata_all = pd.read_csv(all_metadata_file,index_col=0,sep='\\t')"
   ]
  },
  {
   "cell_type": "markdown",
   "metadata": {},
   "source": [
    "## Remove samples due to poor metadata"
   ]
  },
  {
   "cell_type": "markdown",
   "metadata": {},
   "source": [
    "After curation, some samples either did not have enough replicates or metadata to warrant inclusion in this database. Add a `skip` column to the metadata to exclude these samples."
   ]
  },
  {
   "cell_type": "code",
   "execution_count": 7,
   "metadata": {},
   "outputs": [
    {
     "name": "stdout",
     "output_type": "stream",
     "text": [
      "New number of samples with curated metadata: 292\n"
     ]
    },
    {
     "data": {
      "text/html": [
       "<div>\n",
       "<style scoped>\n",
       "    .dataframe tbody tr th:only-of-type {\n",
       "        vertical-align: middle;\n",
       "    }\n",
       "\n",
       "    .dataframe tbody tr th {\n",
       "        vertical-align: top;\n",
       "    }\n",
       "\n",
       "    .dataframe thead th {\n",
       "        text-align: right;\n",
       "    }\n",
       "</style>\n",
       "<table border=\"1\" class=\"dataframe\">\n",
       "  <thead>\n",
       "    <tr style=\"text-align: right;\">\n",
       "      <th></th>\n",
       "      <th>ReleaseDate</th>\n",
       "      <th>TaxID</th>\n",
       "      <th>ScientificName</th>\n",
       "      <th>species_tax_id</th>\n",
       "      <th>class_tax_id</th>\n",
       "      <th>strain_tax_id</th>\n",
       "      <th>species</th>\n",
       "      <th>LibraryLayout</th>\n",
       "      <th>Platform</th>\n",
       "      <th>Model</th>\n",
       "      <th>...</th>\n",
       "      <th>strain_description</th>\n",
       "      <th>base_media</th>\n",
       "      <th>carbon_source</th>\n",
       "      <th>treatment</th>\n",
       "      <th>temperature</th>\n",
       "      <th>pH</th>\n",
       "      <th>OD</th>\n",
       "      <th>growth_phase</th>\n",
       "      <th>notes</th>\n",
       "      <th>skip</th>\n",
       "    </tr>\n",
       "  </thead>\n",
       "  <tbody>\n",
       "    <tr>\n",
       "      <th>DRX131730</th>\n",
       "      <td>2018-09-25 19:19:17</td>\n",
       "      <td>224308</td>\n",
       "      <td>Bacillus subtilis subsp. subtilis str. 168</td>\n",
       "      <td>1423</td>\n",
       "      <td>91061</td>\n",
       "      <td>224308</td>\n",
       "      <td>Bacillus subtilis</td>\n",
       "      <td>PAIRED</td>\n",
       "      <td>ILLUMINA</td>\n",
       "      <td>Illumina HiSeq 4000</td>\n",
       "      <td>...</td>\n",
       "      <td>168</td>\n",
       "      <td>DSM</td>\n",
       "      <td>glucose(2%)</td>\n",
       "      <td>NaN</td>\n",
       "      <td>NaN</td>\n",
       "      <td>7.0</td>\n",
       "      <td>NaN</td>\n",
       "      <td>mid-exponential</td>\n",
       "      <td>NaN</td>\n",
       "      <td>NaN</td>\n",
       "    </tr>\n",
       "    <tr>\n",
       "      <th>DRX131731</th>\n",
       "      <td>2018-09-25 19:19:17</td>\n",
       "      <td>224308</td>\n",
       "      <td>Bacillus subtilis subsp. subtilis str. 168</td>\n",
       "      <td>1423</td>\n",
       "      <td>91061</td>\n",
       "      <td>224308</td>\n",
       "      <td>Bacillus subtilis</td>\n",
       "      <td>PAIRED</td>\n",
       "      <td>ILLUMINA</td>\n",
       "      <td>Illumina HiSeq 4000</td>\n",
       "      <td>...</td>\n",
       "      <td>168 del_ylxR</td>\n",
       "      <td>DSM</td>\n",
       "      <td>glucose(2%)</td>\n",
       "      <td>NaN</td>\n",
       "      <td>NaN</td>\n",
       "      <td>7.0</td>\n",
       "      <td>NaN</td>\n",
       "      <td>mid-exponential</td>\n",
       "      <td>NaN</td>\n",
       "      <td>NaN</td>\n",
       "    </tr>\n",
       "    <tr>\n",
       "      <th>ERX1819430</th>\n",
       "      <td>2017-01-18 14:21:19</td>\n",
       "      <td>1204342</td>\n",
       "      <td>Bacillus subtilis BEST7003</td>\n",
       "      <td>1423</td>\n",
       "      <td>91061</td>\n",
       "      <td>1204342</td>\n",
       "      <td>Bacillus subtilis</td>\n",
       "      <td>SINGLE</td>\n",
       "      <td>ILLUMINA</td>\n",
       "      <td>NextSeq 500</td>\n",
       "      <td>...</td>\n",
       "      <td>BEST7003 with spBeta</td>\n",
       "      <td>LB</td>\n",
       "      <td>NaN</td>\n",
       "      <td>MnCl2(.1mM);MgCl2(5mM)</td>\n",
       "      <td>37.0</td>\n",
       "      <td>NaN</td>\n",
       "      <td>NaN</td>\n",
       "      <td>NaN</td>\n",
       "      <td>NaN</td>\n",
       "      <td>NaN</td>\n",
       "    </tr>\n",
       "    <tr>\n",
       "      <th>ERX1819431</th>\n",
       "      <td>2017-01-18 14:21:19</td>\n",
       "      <td>1204342</td>\n",
       "      <td>Bacillus subtilis BEST7003</td>\n",
       "      <td>1423</td>\n",
       "      <td>91061</td>\n",
       "      <td>1204342</td>\n",
       "      <td>Bacillus subtilis</td>\n",
       "      <td>SINGLE</td>\n",
       "      <td>ILLUMINA</td>\n",
       "      <td>NextSeq 500</td>\n",
       "      <td>...</td>\n",
       "      <td>BEST7003 with spBeta</td>\n",
       "      <td>LB</td>\n",
       "      <td>NaN</td>\n",
       "      <td>MnCl2(.1mM);MgCl2(5mM);SAIRGA(1uM)</td>\n",
       "      <td>37.0</td>\n",
       "      <td>NaN</td>\n",
       "      <td>NaN</td>\n",
       "      <td>NaN</td>\n",
       "      <td>NaN</td>\n",
       "      <td>NaN</td>\n",
       "    </tr>\n",
       "    <tr>\n",
       "      <th>ERX1819432</th>\n",
       "      <td>2017-01-18 14:21:19</td>\n",
       "      <td>1204342</td>\n",
       "      <td>Bacillus subtilis BEST7003</td>\n",
       "      <td>1423</td>\n",
       "      <td>91061</td>\n",
       "      <td>1204342</td>\n",
       "      <td>Bacillus subtilis</td>\n",
       "      <td>SINGLE</td>\n",
       "      <td>ILLUMINA</td>\n",
       "      <td>NextSeq 500</td>\n",
       "      <td>...</td>\n",
       "      <td>BEST7003 with spBeta</td>\n",
       "      <td>LB</td>\n",
       "      <td>NaN</td>\n",
       "      <td>MnCl2(.1mM);MgCl2(5mM)</td>\n",
       "      <td>37.0</td>\n",
       "      <td>NaN</td>\n",
       "      <td>NaN</td>\n",
       "      <td>NaN</td>\n",
       "      <td>NaN</td>\n",
       "      <td>NaN</td>\n",
       "    </tr>\n",
       "  </tbody>\n",
       "</table>\n",
       "<p>5 rows × 49 columns</p>\n",
       "</div>"
      ],
      "text/plain": [
       "                    ReleaseDate    TaxID  \\\n",
       "DRX131730   2018-09-25 19:19:17   224308   \n",
       "DRX131731   2018-09-25 19:19:17   224308   \n",
       "ERX1819430  2017-01-18 14:21:19  1204342   \n",
       "ERX1819431  2017-01-18 14:21:19  1204342   \n",
       "ERX1819432  2017-01-18 14:21:19  1204342   \n",
       "\n",
       "                                        ScientificName  species_tax_id  \\\n",
       "DRX131730   Bacillus subtilis subsp. subtilis str. 168            1423   \n",
       "DRX131731   Bacillus subtilis subsp. subtilis str. 168            1423   \n",
       "ERX1819430                  Bacillus subtilis BEST7003            1423   \n",
       "ERX1819431                  Bacillus subtilis BEST7003            1423   \n",
       "ERX1819432                  Bacillus subtilis BEST7003            1423   \n",
       "\n",
       "            class_tax_id  strain_tax_id            species LibraryLayout  \\\n",
       "DRX131730          91061         224308  Bacillus subtilis        PAIRED   \n",
       "DRX131731          91061         224308  Bacillus subtilis        PAIRED   \n",
       "ERX1819430         91061        1204342  Bacillus subtilis        SINGLE   \n",
       "ERX1819431         91061        1204342  Bacillus subtilis        SINGLE   \n",
       "ERX1819432         91061        1204342  Bacillus subtilis        SINGLE   \n",
       "\n",
       "            Platform                Model  ...    strain_description  \\\n",
       "DRX131730   ILLUMINA  Illumina HiSeq 4000  ...                   168   \n",
       "DRX131731   ILLUMINA  Illumina HiSeq 4000  ...          168 del_ylxR   \n",
       "ERX1819430  ILLUMINA          NextSeq 500  ...  BEST7003 with spBeta   \n",
       "ERX1819431  ILLUMINA          NextSeq 500  ...  BEST7003 with spBeta   \n",
       "ERX1819432  ILLUMINA          NextSeq 500  ...  BEST7003 with spBeta   \n",
       "\n",
       "           base_media carbon_source                           treatment  \\\n",
       "DRX131730         DSM   glucose(2%)                                 NaN   \n",
       "DRX131731         DSM   glucose(2%)                                 NaN   \n",
       "ERX1819430         LB           NaN              MnCl2(.1mM);MgCl2(5mM)   \n",
       "ERX1819431         LB           NaN  MnCl2(.1mM);MgCl2(5mM);SAIRGA(1uM)   \n",
       "ERX1819432         LB           NaN              MnCl2(.1mM);MgCl2(5mM)   \n",
       "\n",
       "           temperature   pH  OD     growth_phase notes skip  \n",
       "DRX131730          NaN  7.0 NaN  mid-exponential   NaN  NaN  \n",
       "DRX131731          NaN  7.0 NaN  mid-exponential   NaN  NaN  \n",
       "ERX1819430        37.0  NaN NaN              NaN   NaN  NaN  \n",
       "ERX1819431        37.0  NaN NaN              NaN   NaN  NaN  \n",
       "ERX1819432        37.0  NaN NaN              NaN   NaN  NaN  \n",
       "\n",
       "[5 rows x 49 columns]"
      ]
     },
     "execution_count": 7,
     "metadata": {},
     "output_type": "execute_result"
    }
   ],
   "source": [
    "DF_metadata_passed_step4 = DF_metadata[~DF_metadata.skip.fillna(False)].copy()\n",
    "print('New number of samples with curated metadata:',DF_metadata_passed_step4.shape[0])\n",
    "DF_metadata_passed_step4.head()"
   ]
  },
  {
   "cell_type": "markdown",
   "metadata": {},
   "source": [
    "### Check curation\n",
    "Since manual curation is error-prone, we want to make sure that all samples have labels for their project and condition. In addition, there should only be one reference condition in each project, and it should be in the project itself.\n",
    "\n",
    "Any samples that fail these checks will be printed below."
   ]
  },
  {
   "cell_type": "code",
   "execution_count": 8,
   "metadata": {},
   "outputs": [],
   "source": [
    "assert(DF_metadata_passed_step4.project.notnull().all())\n",
    "assert(DF_metadata_passed_step4.condition.notnull().all())\n",
    "\n",
    "for name,group in DF_metadata_passed_step4.groupby('project'):\n",
    "    ref_cond = group.reference_condition.unique()\n",
    "    \n",
    "    # Ensure that there is only one reference condition per project\n",
    "    if not len(ref_cond) == 1:\n",
    "        print('Multiple reference conditions for:, name')\n",
    "    \n",
    "    # Ensure the reference condition is in fact in the project\n",
    "    ref_cond = ref_cond[0]\n",
    "    if not ref_cond in group.condition.tolist():\n",
    "        print('Reference condition not in project:', name)"
   ]
  },
  {
   "cell_type": "markdown",
   "metadata": {},
   "source": [
    "Next, make a new column called ``full_name`` that gives every experimental condition a unique, human-readable identifier."
   ]
  },
  {
   "cell_type": "code",
   "execution_count": 9,
   "metadata": {},
   "outputs": [],
   "source": [
    "DF_metadata_passed_step4['full_name'] = DF_metadata_passed_step4['project'].str.cat(DF_metadata_passed_step4['condition'],sep=':')"
   ]
  },
  {
   "cell_type": "markdown",
   "metadata": {},
   "source": [
    "### Remove samples with only one replicate"
   ]
  },
  {
   "cell_type": "markdown",
   "metadata": {},
   "source": [
    "First, find sample names that have at least two replicates."
   ]
  },
  {
   "cell_type": "code",
   "execution_count": 10,
   "metadata": {},
   "outputs": [
    {
     "name": "stdout",
     "output_type": "stream",
     "text": [
      "Index(['nusA:no_nusA', 'nusA:nusA_induced', 'biofilm_time:8h',\n",
      "       'biofilm_time:12h', 'biofilm_time:16h'],\n",
      "      dtype='object')\n"
     ]
    }
   ],
   "source": [
    "counts = DF_metadata_passed_step4.full_name.value_counts()\n",
    "keep_samples = counts[counts >= 2].index\n",
    "print(keep_samples[:5])"
   ]
  },
  {
   "cell_type": "markdown",
   "metadata": {},
   "source": [
    "Only keep these samples"
   ]
  },
  {
   "cell_type": "code",
   "execution_count": 11,
   "metadata": {},
   "outputs": [
    {
     "name": "stdout",
     "output_type": "stream",
     "text": [
      "New number of samples with curated metadata: 273\n"
     ]
    },
    {
     "data": {
      "text/html": [
       "<div>\n",
       "<style scoped>\n",
       "    .dataframe tbody tr th:only-of-type {\n",
       "        vertical-align: middle;\n",
       "    }\n",
       "\n",
       "    .dataframe tbody tr th {\n",
       "        vertical-align: top;\n",
       "    }\n",
       "\n",
       "    .dataframe thead th {\n",
       "        text-align: right;\n",
       "    }\n",
       "</style>\n",
       "<table border=\"1\" class=\"dataframe\">\n",
       "  <thead>\n",
       "    <tr style=\"text-align: right;\">\n",
       "      <th></th>\n",
       "      <th>ReleaseDate</th>\n",
       "      <th>TaxID</th>\n",
       "      <th>ScientificName</th>\n",
       "      <th>species_tax_id</th>\n",
       "      <th>class_tax_id</th>\n",
       "      <th>strain_tax_id</th>\n",
       "      <th>species</th>\n",
       "      <th>LibraryLayout</th>\n",
       "      <th>Platform</th>\n",
       "      <th>Model</th>\n",
       "      <th>...</th>\n",
       "      <th>base_media</th>\n",
       "      <th>carbon_source</th>\n",
       "      <th>treatment</th>\n",
       "      <th>temperature</th>\n",
       "      <th>pH</th>\n",
       "      <th>OD</th>\n",
       "      <th>growth_phase</th>\n",
       "      <th>notes</th>\n",
       "      <th>skip</th>\n",
       "      <th>full_name</th>\n",
       "    </tr>\n",
       "  </thead>\n",
       "  <tbody>\n",
       "    <tr>\n",
       "      <th>ERX1819430</th>\n",
       "      <td>2017-01-18 14:21:19</td>\n",
       "      <td>1204342</td>\n",
       "      <td>Bacillus subtilis BEST7003</td>\n",
       "      <td>1423</td>\n",
       "      <td>91061</td>\n",
       "      <td>1204342</td>\n",
       "      <td>Bacillus subtilis</td>\n",
       "      <td>SINGLE</td>\n",
       "      <td>ILLUMINA</td>\n",
       "      <td>NextSeq 500</td>\n",
       "      <td>...</td>\n",
       "      <td>LB</td>\n",
       "      <td>NaN</td>\n",
       "      <td>MnCl2(.1mM);MgCl2(5mM)</td>\n",
       "      <td>37.0</td>\n",
       "      <td>NaN</td>\n",
       "      <td>NaN</td>\n",
       "      <td>NaN</td>\n",
       "      <td>NaN</td>\n",
       "      <td>NaN</td>\n",
       "      <td>spbeta:spbeta_nopep_20m</td>\n",
       "    </tr>\n",
       "    <tr>\n",
       "      <th>ERX1819431</th>\n",
       "      <td>2017-01-18 14:21:19</td>\n",
       "      <td>1204342</td>\n",
       "      <td>Bacillus subtilis BEST7003</td>\n",
       "      <td>1423</td>\n",
       "      <td>91061</td>\n",
       "      <td>1204342</td>\n",
       "      <td>Bacillus subtilis</td>\n",
       "      <td>SINGLE</td>\n",
       "      <td>ILLUMINA</td>\n",
       "      <td>NextSeq 500</td>\n",
       "      <td>...</td>\n",
       "      <td>LB</td>\n",
       "      <td>NaN</td>\n",
       "      <td>MnCl2(.1mM);MgCl2(5mM);SAIRGA(1uM)</td>\n",
       "      <td>37.0</td>\n",
       "      <td>NaN</td>\n",
       "      <td>NaN</td>\n",
       "      <td>NaN</td>\n",
       "      <td>NaN</td>\n",
       "      <td>NaN</td>\n",
       "      <td>spbeta:spbeta_pep_20m</td>\n",
       "    </tr>\n",
       "    <tr>\n",
       "      <th>ERX1819432</th>\n",
       "      <td>2017-01-18 14:21:19</td>\n",
       "      <td>1204342</td>\n",
       "      <td>Bacillus subtilis BEST7003</td>\n",
       "      <td>1423</td>\n",
       "      <td>91061</td>\n",
       "      <td>1204342</td>\n",
       "      <td>Bacillus subtilis</td>\n",
       "      <td>SINGLE</td>\n",
       "      <td>ILLUMINA</td>\n",
       "      <td>NextSeq 500</td>\n",
       "      <td>...</td>\n",
       "      <td>LB</td>\n",
       "      <td>NaN</td>\n",
       "      <td>MnCl2(.1mM);MgCl2(5mM)</td>\n",
       "      <td>37.0</td>\n",
       "      <td>NaN</td>\n",
       "      <td>NaN</td>\n",
       "      <td>NaN</td>\n",
       "      <td>NaN</td>\n",
       "      <td>NaN</td>\n",
       "      <td>spbeta:spbeta_nopep_20m</td>\n",
       "    </tr>\n",
       "    <tr>\n",
       "      <th>ERX1819433</th>\n",
       "      <td>2017-01-18 14:21:19</td>\n",
       "      <td>1204342</td>\n",
       "      <td>Bacillus subtilis BEST7003</td>\n",
       "      <td>1423</td>\n",
       "      <td>91061</td>\n",
       "      <td>1204342</td>\n",
       "      <td>Bacillus subtilis</td>\n",
       "      <td>SINGLE</td>\n",
       "      <td>ILLUMINA</td>\n",
       "      <td>NextSeq 500</td>\n",
       "      <td>...</td>\n",
       "      <td>LB</td>\n",
       "      <td>NaN</td>\n",
       "      <td>MnCl2(.1mM);MgCl2(5mM);SAIRGA(1uM)</td>\n",
       "      <td>37.0</td>\n",
       "      <td>NaN</td>\n",
       "      <td>NaN</td>\n",
       "      <td>NaN</td>\n",
       "      <td>NaN</td>\n",
       "      <td>NaN</td>\n",
       "      <td>spbeta:spbeta_pep_20m</td>\n",
       "    </tr>\n",
       "    <tr>\n",
       "      <th>ERX1819434</th>\n",
       "      <td>2017-01-18 14:21:19</td>\n",
       "      <td>1204342</td>\n",
       "      <td>Bacillus subtilis BEST7003</td>\n",
       "      <td>1423</td>\n",
       "      <td>91061</td>\n",
       "      <td>1204342</td>\n",
       "      <td>Bacillus subtilis</td>\n",
       "      <td>SINGLE</td>\n",
       "      <td>ILLUMINA</td>\n",
       "      <td>NextSeq 500</td>\n",
       "      <td>...</td>\n",
       "      <td>LB</td>\n",
       "      <td>NaN</td>\n",
       "      <td>MnCl2(.1mM);MgCl2(5mM);SAIRGA(1uM)</td>\n",
       "      <td>37.0</td>\n",
       "      <td>NaN</td>\n",
       "      <td>NaN</td>\n",
       "      <td>NaN</td>\n",
       "      <td>NaN</td>\n",
       "      <td>NaN</td>\n",
       "      <td>spbeta:phi3T_pep_10m</td>\n",
       "    </tr>\n",
       "  </tbody>\n",
       "</table>\n",
       "<p>5 rows × 50 columns</p>\n",
       "</div>"
      ],
      "text/plain": [
       "                    ReleaseDate    TaxID              ScientificName  \\\n",
       "ERX1819430  2017-01-18 14:21:19  1204342  Bacillus subtilis BEST7003   \n",
       "ERX1819431  2017-01-18 14:21:19  1204342  Bacillus subtilis BEST7003   \n",
       "ERX1819432  2017-01-18 14:21:19  1204342  Bacillus subtilis BEST7003   \n",
       "ERX1819433  2017-01-18 14:21:19  1204342  Bacillus subtilis BEST7003   \n",
       "ERX1819434  2017-01-18 14:21:19  1204342  Bacillus subtilis BEST7003   \n",
       "\n",
       "            species_tax_id  class_tax_id  strain_tax_id            species  \\\n",
       "ERX1819430            1423         91061        1204342  Bacillus subtilis   \n",
       "ERX1819431            1423         91061        1204342  Bacillus subtilis   \n",
       "ERX1819432            1423         91061        1204342  Bacillus subtilis   \n",
       "ERX1819433            1423         91061        1204342  Bacillus subtilis   \n",
       "ERX1819434            1423         91061        1204342  Bacillus subtilis   \n",
       "\n",
       "           LibraryLayout  Platform        Model  ... base_media carbon_source  \\\n",
       "ERX1819430        SINGLE  ILLUMINA  NextSeq 500  ...         LB           NaN   \n",
       "ERX1819431        SINGLE  ILLUMINA  NextSeq 500  ...         LB           NaN   \n",
       "ERX1819432        SINGLE  ILLUMINA  NextSeq 500  ...         LB           NaN   \n",
       "ERX1819433        SINGLE  ILLUMINA  NextSeq 500  ...         LB           NaN   \n",
       "ERX1819434        SINGLE  ILLUMINA  NextSeq 500  ...         LB           NaN   \n",
       "\n",
       "                                     treatment  temperature  pH  OD  \\\n",
       "ERX1819430              MnCl2(.1mM);MgCl2(5mM)         37.0 NaN NaN   \n",
       "ERX1819431  MnCl2(.1mM);MgCl2(5mM);SAIRGA(1uM)         37.0 NaN NaN   \n",
       "ERX1819432              MnCl2(.1mM);MgCl2(5mM)         37.0 NaN NaN   \n",
       "ERX1819433  MnCl2(.1mM);MgCl2(5mM);SAIRGA(1uM)         37.0 NaN NaN   \n",
       "ERX1819434  MnCl2(.1mM);MgCl2(5mM);SAIRGA(1uM)         37.0 NaN NaN   \n",
       "\n",
       "           growth_phase notes skip                full_name  \n",
       "ERX1819430          NaN   NaN  NaN  spbeta:spbeta_nopep_20m  \n",
       "ERX1819431          NaN   NaN  NaN    spbeta:spbeta_pep_20m  \n",
       "ERX1819432          NaN   NaN  NaN  spbeta:spbeta_nopep_20m  \n",
       "ERX1819433          NaN   NaN  NaN    spbeta:spbeta_pep_20m  \n",
       "ERX1819434          NaN   NaN  NaN     spbeta:phi3T_pep_10m  \n",
       "\n",
       "[5 rows x 50 columns]"
      ]
     },
     "execution_count": 11,
     "metadata": {},
     "output_type": "execute_result"
    }
   ],
   "source": [
    "DF_metadata_passed_step4 = DF_metadata_passed_step4[DF_metadata_passed_step4.full_name.isin(keep_samples)]\n",
    "print('New number of samples with curated metadata:',DF_metadata_passed_step4.shape[0])\n",
    "DF_metadata_passed_step4.head()"
   ]
  },
  {
   "cell_type": "markdown",
   "metadata": {},
   "source": [
    "### Save this information to the full metadata dataframe"
   ]
  },
  {
   "cell_type": "code",
   "execution_count": 12,
   "metadata": {},
   "outputs": [],
   "source": [
    "DF_metadata_all['passed_curation'] = DF_metadata_all.index.isin(DF_metadata_passed_step4.index)"
   ]
  },
  {
   "cell_type": "markdown",
   "metadata": {},
   "source": [
    "## Check correlations between replicates"
   ]
  },
  {
   "cell_type": "markdown",
   "metadata": {},
   "source": [
    "### Remove failed data from log_tpm files"
   ]
  },
  {
   "cell_type": "code",
   "execution_count": 13,
   "metadata": {},
   "outputs": [],
   "source": [
    "DF_log_tpm = DF_log_tpm[DF_metadata_passed_step4.index]"
   ]
  },
  {
   "cell_type": "markdown",
   "metadata": {},
   "source": [
    "### Compute Pearson R Score"
   ]
  },
  {
   "cell_type": "markdown",
   "metadata": {},
   "source": [
    "Biological replicates should have a Pearson R correlation above 0.95. For samples with more than 2 replicates, the replicates must have R >= 0.95 with at least one other replicate or it will be dropped. The correlation threshold can be changed below:"
   ]
  },
  {
   "cell_type": "code",
   "execution_count": 14,
   "metadata": {},
   "outputs": [],
   "source": [
    "rcutoff = 0.95"
   ]
  },
  {
   "cell_type": "markdown",
   "metadata": {},
   "source": [
    "The following code computes correlations between all samples and collects correlations between replicates and non-replicates."
   ]
  },
  {
   "cell_type": "code",
   "execution_count": 15,
   "metadata": {},
   "outputs": [
    {
     "data": {
      "application/vnd.jupyter.widget-view+json": {
       "model_id": "5cd0fd254c094f299e7ef9c0d2c8b4b9",
       "version_major": 2,
       "version_minor": 0
      },
      "text/plain": [
       "  0%|          | 0/37128.0 [00:00<?, ?it/s]"
      ]
     },
     "metadata": {},
     "output_type": "display_data"
    }
   ],
   "source": [
    "rep_corrs = {}\n",
    "rand_corrs = {}\n",
    "\n",
    "num_comparisons = len(DF_metadata_passed_step4)*(len(DF_metadata_passed_step4)-1)/2\n",
    "\n",
    "for exp1,exp2 in tqdm(itertools.combinations(DF_metadata_passed_step4.index,2),total=num_comparisons):\n",
    "    if DF_metadata_passed_step4.loc[exp1,'full_name'] == DF_metadata_passed_step4.loc[exp2,'full_name']:\n",
    "        rep_corrs[(exp1,exp2)] = stats.pearsonr(DF_log_tpm[exp1],DF_log_tpm[exp2])[0]\n",
    "    else:\n",
    "        rand_corrs[(exp1,exp2)] = stats.pearsonr(DF_log_tpm[exp1],DF_log_tpm[exp2])[0]"
   ]
  },
  {
   "cell_type": "markdown",
   "metadata": {},
   "source": [
    "Correlations can be plotted on a histogram"
   ]
  },
  {
   "cell_type": "code",
   "execution_count": 16,
   "metadata": {},
   "outputs": [
    {
     "name": "stdout",
     "output_type": "stream",
     "text": [
      "Median Pearson R between replicates: 0.98\n"
     ]
    },
    {
     "data": {
      "image/png": "[encoded data removed]",
      "text/plain": [
       "<Figure size 360x360 with 2 Axes>"
      ]
     },
     "metadata": {},
     "output_type": "display_data"
    }
   ],
   "source": [
    "fig,ax = plt.subplots(figsize=(5,5))\n",
    "ax2 = ax.twinx()\n",
    "ax2.hist(rep_corrs.values(),bins=50,range=(0.2,1),alpha=0.8,color='green',linewidth=0)\n",
    "ax.hist(rand_corrs.values(),bins=50,range=(0.2,1),alpha=0.8,color='blue',linewidth=0)\n",
    "ax.set_title('Pearson R correlation between experiments',fontsize=14)\n",
    "ax.set_xlabel('Pearson R correlation',fontsize=14)\n",
    "ax.set_ylabel('Different Conditions',fontsize=14)\n",
    "ax2.set_ylabel('Known Replicates',fontsize=14)\n",
    "\n",
    "med_corr = np.median([v for k,v in rep_corrs.items()])\n",
    "print('Median Pearson R between replicates: {:.2f}'.format(med_corr))"
   ]
  },
  {
   "cell_type": "markdown",
   "metadata": {},
   "source": [
    "Remove samples without any high-correlation replicates"
   ]
  },
  {
   "cell_type": "code",
   "execution_count": 17,
   "metadata": {},
   "outputs": [],
   "source": [
    "dissimilar = []\n",
    "for idx, grp in DF_metadata_passed_step4.groupby('full_name'):\n",
    "    ident = np.identity(len(grp))\n",
    "    corrs = (DF_log_tpm[grp.index].corr() - ident).max()\n",
    "    dissimilar.extend(corrs[corrs<rcutoff].index)\n",
    "\n",
    "# Save this information in both the original metadata dataframe and the new metadata dataframe\n",
    "DF_metadata_all['passed_replicate_correlations'] = ~DF_metadata_all.index.isin(dissimilar)\n",
    "DF_metadata_passed_step4['passed_replicate_correlations'] = ~DF_metadata_passed_step4.index.isin(dissimilar)"
   ]
  },
  {
   "cell_type": "code",
   "execution_count": 18,
   "metadata": {},
   "outputs": [
    {
     "name": "stdout",
     "output_type": "stream",
     "text": [
      "# Samples that passed replicate correlations: 265\n"
     ]
    }
   ],
   "source": [
    "DF_metadata_final = DF_metadata_passed_step4[DF_metadata_passed_step4['passed_replicate_correlations']]\n",
    "print('# Samples that passed replicate correlations:',len(DF_metadata_final))"
   ]
  },
  {
   "cell_type": "markdown",
   "metadata": {},
   "source": [
    "## Check that reference conditions still exist\n",
    "If a reference condition was removed due to poor replicate correlations, a new reference condition needs to be defined.\n",
    "\n",
    "Again, any samples that fail these checks will be printed below."
   ]
  },
  {
   "cell_type": "code",
   "execution_count": 19,
   "metadata": {},
   "outputs": [],
   "source": [
    "project_exprs = []\n",
    "for name,group in DF_metadata_final.groupby('project'):\n",
    "    \n",
    "    # Get reference condition\n",
    "    ref_cond = group.reference_condition.iloc[0]\n",
    "    \n",
    "    # Ensure the reference condition is still in the project\n",
    "    if ref_cond not in group.condition.tolist():\n",
    "        print('Reference condition missing from:', name)\n",
    "    \n",
    "    # Check that each project has at least two conditions (a reference and at least one test condition)\n",
    "    if len(group.condition.unique()) <= 1:\n",
    "        print('Only one condition in:', name)"
   ]
  },
  {
   "cell_type": "markdown",
   "metadata": {},
   "source": [
    "If necessary, choose a new condition for failed projects and re-run notebook."
   ]
  },
  {
   "cell_type": "markdown",
   "metadata": {},
   "source": [
    "## Normalize dataset to reference conditions"
   ]
  },
  {
   "cell_type": "code",
   "execution_count": 20,
   "metadata": {},
   "outputs": [],
   "source": [
    "DF_log_tpm_final = DF_log_tpm[DF_metadata_final.index]"
   ]
  },
  {
   "cell_type": "code",
   "execution_count": 21,
   "metadata": {},
   "outputs": [],
   "source": [
    "project_exprs = []\n",
    "for name,group in DF_metadata_final.groupby('project'):\n",
    "    \n",
    "    # Get reference condition\n",
    "    ref_cond = group.reference_condition.iloc[0]\n",
    "    \n",
    "    # Get reference condition sample ids\n",
    "    ref_samples = group[group.condition == ref_cond].index\n",
    "    \n",
    "    # Get reference condition expression\n",
    "    ref_expr = DF_log_tpm_final[ref_samples].mean(axis=1)\n",
    "    \n",
    "    # Subtract reference expression from project\n",
    "    project_exprs.append(DF_log_tpm_final[group.index].sub(ref_expr,axis=0))\n",
    "\n",
    "DF_log_tpm_norm = pd.concat(project_exprs,axis=1)"
   ]
  },
  {
   "cell_type": "markdown",
   "metadata": {},
   "source": [
    "## Save final datasets"
   ]
  },
  {
   "cell_type": "code",
   "execution_count": 23,
   "metadata": {},
   "outputs": [],
   "source": [
    "logTPM_qc_file = path.join('..','data','processed_data','log_tpm.csv')\n",
    "logTPM_norm_file = path.join('..','data','processed_data','log_tpm_norm.csv')\n",
    "final_metadata_file = path.join('..','data','processed_data','metadata.tsv')\n",
    "final_metadata_all_file = path.join('..','data','interim','metadata_qc_part2_all.tsv')\n",
    "\n",
    "DF_log_tpm_final.to_csv(logTPM_qc_file)\n",
    "DF_log_tpm_norm.to_csv(logTPM_norm_file)\n",
    "DF_metadata_final.to_csv(final_metadata_file, sep='\\t')\n",
    "DF_metadata_all.to_csv(final_metadata_all_file, sep='\\t')"
   ]
  },
  {
   "cell_type": "code",
   "execution_count": null,
   "metadata": {},
   "outputs": [],
   "source": []
  }
 ],
 "metadata": {
  "kernelspec": {
   "display_name": "Python 3 (ipykernel)",
   "language": "python",
   "name": "python3"
  },
  "language_info": {
   "codemirror_mode": {
    "name": "ipython",
    "version": 3
   },
   "file_extension": ".py",
   "mimetype": "text/x-python",
   "name": "python",
   "nbconvert_exporter": "python",
   "pygments_lexer": "ipython3",
   "version": "3.7.16"
  },
  "toc": {
   "base_numbering": 1,
   "nav_menu": {},
   "number_sections": true,
   "sideBar": true,
   "skip_h1_title": false,
   "title_cell": "Table of Contents",
   "title_sidebar": "Contents",
   "toc_cell": true,
   "toc_position": {},
   "toc_section_display": true,
   "toc_window_display": false
  }
 },
 "nbformat": 4,
 "nbformat_minor": 2
}
